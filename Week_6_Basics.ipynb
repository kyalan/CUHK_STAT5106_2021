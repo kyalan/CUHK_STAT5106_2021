{
  "nbformat": 4,
  "nbformat_minor": 0,
  "metadata": {
    "kernelspec": {
      "display_name": "Python 3",
      "language": "python",
      "name": "python3"
    },
    "language_info": {
      "codemirror_mode": {
        "name": "ipython",
        "version": 3
      },
      "file_extension": ".py",
      "mimetype": "text/x-python",
      "name": "python",
      "nbconvert_exporter": "python",
      "pygments_lexer": "ipython3",
      "version": "3.6.9"
    },
    "colab": {
      "name": "Week_6_Basics.ipynb",
      "provenance": [],
      "include_colab_link": true
    }
  },
  "cells": [
    {
      "cell_type": "markdown",
      "metadata": {
        "id": "view-in-github",
        "colab_type": "text"
      },
      "source": [
        "<a href=\"https://colab.research.google.com/github/kyalan/CUHK_STAT5106_2021/blob/main/Week_6_Basics.ipynb\" target=\"_parent\"><img src=\"https://colab.research.google.com/assets/colab-badge.svg\" alt=\"Open In Colab\"/></a>"
      ]
    },
    {
      "cell_type": "markdown",
      "metadata": {
        "id": "BJLe9DwKSGjo"
      },
      "source": [
        "# Python Basics\n",
        "\n",
        "Constants"
      ]
    },
    {
      "cell_type": "code",
      "metadata": {
        "id": "kZRzsKplSGjo"
      },
      "source": [
        "print(123)\n",
        "print(98.6)\n",
        "print('Hello World')"
      ],
      "execution_count": null,
      "outputs": []
    },
    {
      "cell_type": "markdown",
      "metadata": {
        "id": "n5ZlqDZlSGjs"
      },
      "source": [
        "Variables"
      ]
    },
    {
      "cell_type": "code",
      "metadata": {
        "id": "R5uOZdh0SGjs"
      },
      "source": [
        "x = 12.2\n",
        "y = 14\n",
        "# Or you can x, y = 12.2, 14\n",
        "print(x, y)"
      ],
      "execution_count": null,
      "outputs": []
    },
    {
      "cell_type": "code",
      "metadata": {
        "id": "5rTQJ-TlQcfc"
      },
      "source": [
        "x = 100\n",
        "print(x)"
      ],
      "execution_count": null,
      "outputs": []
    },
    {
      "cell_type": "markdown",
      "metadata": {
        "id": "hGcncQy9SGjv"
      },
      "source": [
        "Expressions"
      ]
    },
    {
      "cell_type": "code",
      "metadata": {
        "id": "HZltHW26SGjw"
      },
      "source": [
        "# Addition\n",
        "xx = 2\n",
        "xx = xx + 2\n",
        "# Or you can use xx += 2\n",
        "print(xx)"
      ],
      "execution_count": null,
      "outputs": []
    },
    {
      "cell_type": "code",
      "metadata": {
        "id": "OVqGuKCOQi_7"
      },
      "source": [
        "# Multiplication\n",
        "yy = 440 * 12\n",
        "print(yy)"
      ],
      "execution_count": null,
      "outputs": []
    },
    {
      "cell_type": "code",
      "metadata": {
        "id": "HgV50_EjQlAc"
      },
      "source": [
        "# Division\n",
        "zz = yy / 1000\n",
        "print(zz)"
      ],
      "execution_count": null,
      "outputs": []
    },
    {
      "cell_type": "code",
      "metadata": {
        "id": "GUqklw_uQnm7"
      },
      "source": [
        "# Remainder\n",
        "jj = 23\n",
        "kk = jj % 5\n",
        "print(kk)"
      ],
      "execution_count": null,
      "outputs": []
    },
    {
      "cell_type": "code",
      "metadata": {
        "id": "kxBG_0GFSGjz"
      },
      "source": [
        "# Power\n",
        "print(4 ** 3)\n",
        "\n",
        "# Operation Order\n",
        "x = 1 + 2 * 3 - 4 / 5 ** 6\n",
        "x = 1 + 2 ** 3 / 4 * 5"
      ],
      "execution_count": null,
      "outputs": []
    },
    {
      "cell_type": "markdown",
      "metadata": {
        "id": "5ijxbIHWSGj3"
      },
      "source": [
        "Variable Types"
      ]
    },
    {
      "cell_type": "code",
      "metadata": {
        "id": "bDrKOM3ASGj3"
      },
      "source": [
        "# numeric \"+\"\n",
        "ddd = 1 + 4\n",
        "print(ddd)"
      ],
      "execution_count": null,
      "outputs": []
    },
    {
      "cell_type": "code",
      "metadata": {
        "id": "07IhamrTSWb6"
      },
      "source": [
        "# string \"+\"\n",
        "eee = 'hello ' + 'there'\n",
        "print(eee)"
      ],
      "execution_count": null,
      "outputs": []
    },
    {
      "cell_type": "code",
      "metadata": {
        "id": "LyE5gE5QSY0p"
      },
      "source": [
        "# Error\n",
        "eee = eee + 1"
      ],
      "execution_count": null,
      "outputs": []
    },
    {
      "cell_type": "code",
      "metadata": {
        "id": "DSO0lSj6S7sv"
      },
      "source": [
        "# Check the type\n",
        "print(type(eee))"
      ],
      "execution_count": null,
      "outputs": []
    },
    {
      "cell_type": "code",
      "metadata": {
        "id": "crKDD4jAScDJ"
      },
      "source": [
        "print(type('hello'))\n",
        "print(type(1))"
      ],
      "execution_count": null,
      "outputs": []
    },
    {
      "cell_type": "markdown",
      "metadata": {
        "id": "y5_3C8DJSGj7"
      },
      "source": [
        "Type Conversions"
      ]
    },
    {
      "cell_type": "code",
      "metadata": {
        "id": "5Q7BbaDySGj7"
      },
      "source": [
        "print(float(99) + 100)"
      ],
      "execution_count": null,
      "outputs": []
    },
    {
      "cell_type": "code",
      "metadata": {
        "id": "neJsGR-bS_En"
      },
      "source": [
        "i = 42\n",
        "print(f'Type of i = {type(i)}')\n",
        "\n",
        "f = float(i)\n",
        "print(f)\n",
        "print(f'Type of f = {type(f)}')"
      ],
      "execution_count": null,
      "outputs": []
    },
    {
      "cell_type": "code",
      "metadata": {
        "id": "wGTzMPcOSGj_"
      },
      "source": [
        "# Error for this case\n",
        "sval = '123'\n",
        "print(f'Type of sval = {type(sval)}')\n",
        "print(sval + 1)"
      ],
      "execution_count": null,
      "outputs": []
    },
    {
      "cell_type": "code",
      "metadata": {
        "id": "E8V8KtYjTTDE"
      },
      "source": [
        "# This is okay\n",
        "ival = int(sval)\n",
        "type(ival)\n",
        "print(ival + 1)"
      ],
      "execution_count": null,
      "outputs": []
    },
    {
      "cell_type": "code",
      "metadata": {
        "id": "JKGVxnm1TstS"
      },
      "source": [
        "# convert to string\n",
        "print(str(ival))"
      ],
      "execution_count": null,
      "outputs": []
    },
    {
      "cell_type": "code",
      "metadata": {
        "id": "x6M07mxYTk5T"
      },
      "source": [
        "# Error\n",
        "str_demo = 'hello ben'\n",
        "niv = int(str_demo)"
      ],
      "execution_count": null,
      "outputs": []
    },
    {
      "cell_type": "markdown",
      "metadata": {
        "id": "7sI0U1tXSGkE"
      },
      "source": [
        "Integer Division"
      ]
    },
    {
      "cell_type": "code",
      "metadata": {
        "id": "fH39P9YFSGkE"
      },
      "source": [
        "# Outcome a float whatever they are integers or floats\n",
        "print(10 / 2) \n",
        "print(9 / 2) \n",
        "print(99 / 100) \n",
        "print(10.0 / 2.0) \n",
        "print(99.0 / 100.0) "
      ],
      "execution_count": null,
      "outputs": []
    },
    {
      "cell_type": "markdown",
      "metadata": {
        "id": "yzy0c8beSGkH"
      },
      "source": [
        "User Input"
      ]
    },
    {
      "cell_type": "code",
      "metadata": {
        "scrolled": false,
        "id": "UaB5oiRGSGkI"
      },
      "source": [
        "name = input('Who are you? ')\n",
        "print('Welcome', name)"
      ],
      "execution_count": null,
      "outputs": []
    },
    {
      "cell_type": "markdown",
      "metadata": {
        "id": "mE-8z3nHSGkL"
      },
      "source": [
        "# Controls, Loops, Functions, Exception Handling\n",
        "\n",
        "Conditional Statement"
      ]
    },
    {
      "cell_type": "code",
      "metadata": {
        "id": "gjQdMiLPSGkM"
      },
      "source": [
        "x = 5\n",
        "print('Before 5')\n",
        "if  x == 5 :\n",
        "    print('Is 5')\n",
        "    print('Is Still 5')\n",
        "    print('Third 5')\n",
        "print('Afterwards 5')\n",
        "print('Before 6')\n",
        "if x == 6 :\n",
        "    print('Is 6')\n",
        "    print('Is Still 6')\n",
        "    print('Third 6')\n",
        "print('Afterwards 6')"
      ],
      "execution_count": null,
      "outputs": []
    },
    {
      "cell_type": "code",
      "metadata": {
        "id": "GKIA0C65SGkP"
      },
      "source": [
        "if x < 2 :\n",
        "    print('small')\n",
        "elif x < 10 :\n",
        "    print('Medium')\n",
        "else :\n",
        "    print('LARGE')\n",
        "print('All done')"
      ],
      "execution_count": null,
      "outputs": []
    },
    {
      "cell_type": "code",
      "metadata": {
        "id": "bGh7ckATX8-L"
      },
      "source": [
        "# One line for a condition\n",
        "print('small' if x < 2 else 'Medium' if x < 10 else 'LARGE')"
      ],
      "execution_count": null,
      "outputs": []
    },
    {
      "cell_type": "markdown",
      "metadata": {
        "id": "WgMmCOklSGkS"
      },
      "source": [
        "While Loop"
      ]
    },
    {
      "cell_type": "code",
      "metadata": {
        "id": "bVKWb2ALSGkS"
      },
      "source": [
        "# Temperory Editor\n",
        "while True:\n",
        "    line = input('> ')\n",
        "    if line[0] == '#' :\n",
        "        continue\n",
        "    if line == 'done' :\n",
        "        break\n",
        "    print(line)\n",
        "print('Done!')"
      ],
      "execution_count": null,
      "outputs": []
    },
    {
      "cell_type": "markdown",
      "metadata": {
        "id": "O0f5E2-mSGkX"
      },
      "source": [
        "For Loop"
      ]
    },
    {
      "cell_type": "code",
      "metadata": {
        "id": "q_MvJPg3SGkY"
      },
      "source": [
        "professors = ['Ben', 'Michael', 'Tony']\n",
        "for professor in professors : \n",
        "    print('Happy Halloween:', professor)\n",
        "print('Done!')"
      ],
      "execution_count": null,
      "outputs": []
    },
    {
      "cell_type": "code",
      "metadata": {
        "id": "uBqFV1s6VDSh"
      },
      "source": [
        "# Find the largest value by for loop\n",
        "largest_so_far = -1\n",
        "print('Before', largest_so_far)\n",
        "for the_num in [9, 41, 12, 3, 74, 15] :\n",
        "    if the_num > largest_so_far :\n",
        "        largest_so_far = the_num\n",
        "    print(largest_so_far, the_num)\n",
        "print('After', largest_so_far)"
      ],
      "execution_count": null,
      "outputs": []
    },
    {
      "cell_type": "markdown",
      "metadata": {
        "id": "sn7rL1nESGkc"
      },
      "source": [
        "Functions"
      ]
    },
    {
      "cell_type": "code",
      "metadata": {
        "id": "sZxQlE6gSGkh"
      },
      "source": [
        "def add_numbers(x, y):\n",
        "    return x + y\n",
        "add_numbers(1, 2)"
      ],
      "execution_count": null,
      "outputs": []
    },
    {
      "cell_type": "code",
      "metadata": {
        "id": "oUZQDMHnVhCu"
      },
      "source": [
        "# parameters with default values\n",
        "def add_numbers(x,y,z=None):\n",
        "    if (z==None):\n",
        "        return x+y\n",
        "    else:\n",
        "        return x+y+z\n",
        "print(add_numbers(1, 2))\n",
        "print(add_numbers(1, 2, 3))"
      ],
      "execution_count": null,
      "outputs": []
    },
    {
      "cell_type": "code",
      "metadata": {
        "id": "TefmU167Vqk-"
      },
      "source": [
        "# You can skip earlier parameter and set the later\n",
        "def add_numbers(x, y, z=None, flag=False):\n",
        "    if (flag):\n",
        "        print('Flag is true!')\n",
        "    if (z==None):\n",
        "        return x + y\n",
        "    else:\n",
        "        return x + y + z\n",
        "print(add_numbers(1, 2, flag=True))"
      ],
      "execution_count": null,
      "outputs": []
    },
    {
      "cell_type": "markdown",
      "metadata": {
        "id": "uaAd68MpSGkq"
      },
      "source": [
        "try / except"
      ]
    },
    {
      "cell_type": "code",
      "metadata": {
        "id": "7146s75xSGkr"
      },
      "source": [
        "astr = 'Bob'\n",
        "try:\n",
        "    print('Hello') \n",
        "    istr = int(astr)\n",
        "    print('There') \n",
        "except:\n",
        "    istr = -1\n",
        "\n",
        "print('Done', istr)"
      ],
      "execution_count": null,
      "outputs": []
    },
    {
      "cell_type": "code",
      "metadata": {
        "id": "2N8P7-_gV3VR"
      },
      "source": [
        "# again, with outputting the error\n",
        "astr = 'Bob'\n",
        "try:\n",
        "    print('Hello') \n",
        "    istr = int(astr)\n",
        "    print('There') \n",
        "except Exception as e:\n",
        "    print(f'Error: {str(e)}')\n",
        "    istr = -1\n",
        "\n",
        "print('Done', istr)"
      ],
      "execution_count": null,
      "outputs": []
    },
    {
      "cell_type": "markdown",
      "metadata": {
        "id": "-AJhpwiVWv0N"
      },
      "source": [
        "# Packages"
      ]
    },
    {
      "cell_type": "code",
      "metadata": {
        "id": "g-GKncoQWyss"
      },
      "source": [
        "from datetime import datetime as dt\n",
        "import time\n",
        "import os"
      ],
      "execution_count": null,
      "outputs": []
    },
    {
      "cell_type": "markdown",
      "metadata": {
        "id": "6SSTev4tSGlR"
      },
      "source": [
        "# Strings"
      ]
    },
    {
      "cell_type": "code",
      "metadata": {
        "id": "GwfHEGOzSGlS"
      },
      "source": [
        "# Get the letter from a string\n",
        "fruit = 'banana'\n",
        "letter = fruit[1]\n",
        "print(letter)"
      ],
      "execution_count": null,
      "outputs": []
    },
    {
      "cell_type": "code",
      "metadata": {
        "id": "mcFwKRGiXMyM"
      },
      "source": [
        "# Can use variables to tune your position\n",
        "x = 3\n",
        "w = fruit[x - 1]\n",
        "print(w)"
      ],
      "execution_count": null,
      "outputs": []
    },
    {
      "cell_type": "code",
      "metadata": {
        "id": "X7FhDACWXOp0"
      },
      "source": [
        "# Error if out of range\n",
        "zot = 'abc'\n",
        "print(zot[5])"
      ],
      "execution_count": null,
      "outputs": []
    },
    {
      "cell_type": "code",
      "metadata": {
        "id": "U1Rf2_zoXhtq"
      },
      "source": [
        "# length of the string\n",
        "print(len(fruit))"
      ],
      "execution_count": null,
      "outputs": []
    },
    {
      "cell_type": "code",
      "metadata": {
        "id": "5_1J2AllXjqq"
      },
      "source": [
        "# for loop for each character\n",
        "for letter in fruit: \n",
        "    print(letter)"
      ],
      "execution_count": null,
      "outputs": []
    },
    {
      "cell_type": "markdown",
      "metadata": {
        "id": "kRGUZuaaSGlc"
      },
      "source": [
        "Slicing"
      ]
    },
    {
      "cell_type": "code",
      "metadata": {
        "id": "qubJ3Fp_SGld"
      },
      "source": [
        "s = 'Writing Python'\n",
        "print(s[0:4])\n",
        "print(s[6:7])\n",
        "print(s[6:20])\n",
        "print(s[:2])\n",
        "print(s[8:])\n",
        "print(s[:])"
      ],
      "execution_count": null,
      "outputs": []
    },
    {
      "cell_type": "markdown",
      "metadata": {
        "id": "nay0EpKvSGlj"
      },
      "source": [
        "Concatenation"
      ]
    },
    {
      "cell_type": "code",
      "metadata": {
        "id": "UM29zcDESGlk"
      },
      "source": [
        "a = 'Hello'\n",
        "b = a + 'There'\n",
        "print(b)\n",
        "c = a + ' ' + 'There'\n",
        "print(c)"
      ],
      "execution_count": null,
      "outputs": []
    },
    {
      "cell_type": "markdown",
      "metadata": {
        "id": "XgO5U-_2SGlv"
      },
      "source": [
        "Logical Operation"
      ]
    },
    {
      "cell_type": "code",
      "metadata": {
        "id": "BEaMS7aTSGlw"
      },
      "source": [
        "# \"in\" operator usage\n",
        "fruit = 'banana'\n",
        "print('n' in fruit)\n",
        "print('m' in fruit)\n",
        "print('nan' in fruit)\n",
        "if 'a' in fruit:\tprint('Found it!')"
      ],
      "execution_count": null,
      "outputs": []
    },
    {
      "cell_type": "code",
      "metadata": {
        "id": "WGisrIEDY_I5"
      },
      "source": [
        "# String comparison\n",
        "word = 'banana'\n",
        "if word < 'banana':\n",
        "    print('Your word,' + word + ', comes before banana.')\n",
        "elif word > 'banana':\n",
        "    print('Your word,' + word + ', comes after banana.')\n",
        "else:\n",
        "    print('All right, bananas.')"
      ],
      "execution_count": null,
      "outputs": []
    },
    {
      "cell_type": "markdown",
      "metadata": {
        "id": "NyKmsfxvSGl3"
      },
      "source": [
        "Strings methods"
      ]
    },
    {
      "cell_type": "code",
      "metadata": {
        "id": "sJOpE-hDSGl5"
      },
      "source": [
        "# find a substring\n",
        "fruit = 'banana'\n",
        "pos = fruit.find('na')\n",
        "print(pos)\n",
        "# if you cannot find\n",
        "aa = fruit.find('z')\n",
        "print(aa)"
      ],
      "execution_count": null,
      "outputs": []
    },
    {
      "cell_type": "code",
      "metadata": {
        "id": "RHdMtCiwZbMa"
      },
      "source": [
        "# Case conversion\n",
        "greet = 'Hello Ben'\n",
        "up_greet = greet.upper()\n",
        "print(up_greet)\n",
        "low_greet = greet.lower()\n",
        "print(low_greet)"
      ],
      "execution_count": null,
      "outputs": []
    },
    {
      "cell_type": "code",
      "metadata": {
        "id": "j60KfzSdZoAp"
      },
      "source": [
        "# Replace string\n",
        "greet = 'Hello Ben'\n",
        "rp_greet = greet.replace('Ben','Tony')\n",
        "print(rp_greet)\n",
        "rp_greet = greet.replace('o','X')\n",
        "print(rp_greet)"
      ],
      "execution_count": null,
      "outputs": []
    },
    {
      "cell_type": "code",
      "metadata": {
        "id": "KZQQxkBHZxU4"
      },
      "source": [
        "# Trimming spaces\n",
        "greet = '   Hello Ben  '\n",
        "print(greet.lstrip(), '|', greet.rstrip(), '|', greet.strip())"
      ],
      "execution_count": null,
      "outputs": []
    },
    {
      "cell_type": "code",
      "metadata": {
        "id": "AwoJWEyYZ2A4"
      },
      "source": [
        "# check the starting char\n",
        "line = 'Please have a nice day'\n",
        "print(line.startswith('Please'), line.startswith('p'))"
      ],
      "execution_count": null,
      "outputs": []
    },
    {
      "cell_type": "markdown",
      "metadata": {
        "id": "cBxAYZKsSGmG"
      },
      "source": [
        "# Datetime"
      ]
    },
    {
      "cell_type": "code",
      "metadata": {
        "id": "nTVR_KUOaGq5"
      },
      "source": [
        "import datetime as dt\n",
        "\n",
        "# datetime now\n",
        "dtnow = dt.datetime.now()\n",
        "print(dt.datetime.now())\n",
        "print(type(dtnow))\n",
        "print(dtnow.year, dtnow.month, dtnow.day, dtnow.hour, dtnow.minute, dtnow.second)"
      ],
      "execution_count": null,
      "outputs": []
    },
    {
      "cell_type": "code",
      "metadata": {
        "id": "TjCRDdNgaMU5"
      },
      "source": [
        "# date now\n",
        "today = dt.date.today()\n",
        "print(type(today))\n",
        "print(today)"
      ],
      "execution_count": null,
      "outputs": []
    },
    {
      "cell_type": "code",
      "metadata": {
        "id": "0wewK3FGaYC4"
      },
      "source": [
        "# datetime arithmetic, use timedelta object\n",
        "delta = dt.timedelta(days = 100)\n",
        "print(delta)\n",
        "print(today - delta)\n",
        "print(today > today - delta)"
      ],
      "execution_count": null,
      "outputs": []
    },
    {
      "cell_type": "code",
      "metadata": {
        "id": "TmETfs6Zagco"
      },
      "source": [
        "# This is error\n",
        "today - 100"
      ],
      "execution_count": null,
      "outputs": []
    },
    {
      "cell_type": "code",
      "metadata": {
        "id": "mxxRczQYSGmJ"
      },
      "source": [
        "# String to datetime\n",
        "date0 = dt.datetime.strptime('2019-01-02 03:04:05', '%Y-%m-%d %H:%M:%S')\n",
        "print(dt.datetime.strftime(dtnow, '%H:%M:%S %Y%m%d'))"
      ],
      "execution_count": null,
      "outputs": []
    },
    {
      "cell_type": "code",
      "metadata": {
        "id": "8cAafy6_SGmT"
      },
      "source": [
        "import time\n",
        "# time package is for timer use\n",
        "\n",
        "# UNIX time\n",
        "print(time.time())\n",
        "print(time.gmtime(0))\n",
        "\n",
        "starttime = time.time()\n",
        "time.sleep(10)\n",
        "endtime = time.time()\n",
        "print(endtime-starttime, 'sec past.')"
      ],
      "execution_count": null,
      "outputs": []
    },
    {
      "cell_type": "markdown",
      "metadata": {
        "id": "5Syr7DoxSGme"
      },
      "source": [
        "# Simple Files IO"
      ]
    },
    {
      "cell_type": "code",
      "metadata": {
        "id": "dJ7mowtGb8ec"
      },
      "source": [
        "# please place welcome.txt before running this code\n",
        "handle = open('welcome.txt')\n",
        "print(handle)"
      ],
      "execution_count": null,
      "outputs": []
    },
    {
      "cell_type": "code",
      "metadata": {
        "id": "F1bRUtnwcEdL"
      },
      "source": [
        "# Otherwise you will get error\n",
        "handle2 = open('goodbye.txt')"
      ],
      "execution_count": null,
      "outputs": []
    },
    {
      "cell_type": "code",
      "metadata": {
        "id": "VoYaW8QUcJ0c"
      },
      "source": [
        "# length of string includes \\n and !\n",
        "stuff = 'Hello\\nWorld!'\n",
        "print(stuff)\n",
        "print(len(stuff))"
      ],
      "execution_count": null,
      "outputs": []
    },
    {
      "cell_type": "code",
      "metadata": {
        "id": "U98YejZ6cZI7"
      },
      "source": [
        "# print for each line\n",
        "for line in handle:\n",
        "    print(line)"
      ],
      "execution_count": null,
      "outputs": []
    },
    {
      "cell_type": "code",
      "metadata": {
        "id": "tH7NugMvcfr5"
      },
      "source": [
        "# or read all the lines\n",
        "handle = open('welcome.txt')\n",
        "lines = handle.read()\n",
        "print(len(lines))"
      ],
      "execution_count": null,
      "outputs": []
    },
    {
      "cell_type": "code",
      "metadata": {
        "id": "LxqlhmG8cufJ"
      },
      "source": [
        "# remember to close the file after using this\n",
        "handle.close()"
      ],
      "execution_count": null,
      "outputs": []
    },
    {
      "cell_type": "code",
      "metadata": {
        "id": "dLTf2BO-SGmh"
      },
      "source": [
        "# Write a file\n",
        "file = open(\"testing.txt\",\"w\") \n",
        "file.write(\"Hello World\") \n",
        "file.write(\"This is a Python Programming class\") \n",
        "file.write(\"Happy coding.\") \n",
        "file.write(\"Cheers, Alan.\")  \n",
        "file.close() "
      ],
      "execution_count": null,
      "outputs": []
    },
    {
      "cell_type": "markdown",
      "metadata": {
        "id": "-pEwJQIueab-"
      },
      "source": [
        "# Connecting to Google Drive\n",
        "You can press the folder icon => google drive icon"
      ]
    },
    {
      "cell_type": "code",
      "metadata": {
        "id": "tAVcC-fPeEtT"
      },
      "source": [
        "from google.colab import drive\n",
        "drive.mount('/content/drive')"
      ],
      "execution_count": null,
      "outputs": []
    },
    {
      "cell_type": "code",
      "metadata": {
        "id": "xssPaGzve1W9"
      },
      "source": [
        "import os\n",
        "\n",
        "# Your original folder\n",
        "gdrive_folder = 'CUHK_STAT5106_2021/Week 6 - 23 Oct'\n",
        "os.chdir(f'/content/drive/My Drive/{gdrive_folder}')"
      ],
      "execution_count": null,
      "outputs": []
    },
    {
      "cell_type": "code",
      "metadata": {
        "id": "nJ_tpfeWe6Q2"
      },
      "source": [
        "os.listdir()"
      ],
      "execution_count": null,
      "outputs": []
    },
    {
      "cell_type": "markdown",
      "metadata": {
        "id": "TG4yz3ArftuO"
      },
      "source": [
        "# Running Python Programs files .py\n",
        "Reference: https://www.hackerrank.com/challenges/staircase/problem\n",
        "\n",
        "\n",
        "Copy the following into your new file called staircase.py\n",
        "```\n",
        "num_stairs = 10\n",
        "\n",
        "for stairs in range(1, num_stairs + 1):\n",
        "    print(' ' * (num_stairs - stairs) + '#' * stairs)\n",
        "```\n",
        "\n"
      ]
    },
    {
      "cell_type": "code",
      "metadata": {
        "id": "-7KEijGvf2QU"
      },
      "source": [
        "# run the following\n",
        "!python staircase.py"
      ],
      "execution_count": null,
      "outputs": []
    },
    {
      "cell_type": "code",
      "metadata": {
        "id": "h2t9DFIog-F1"
      },
      "source": [
        ""
      ],
      "execution_count": null,
      "outputs": []
    }
  ]
}